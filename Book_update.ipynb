{
  "cells": [
    {
      "cell_type": "markdown",
      "metadata": {
        "colab_type": "text",
        "id": "view-in-github"
      },
      "source": [
        "<a href=\"https://colab.research.google.com/github/pongsapaks/Data-science/blob/main/Book_update.ipynb\" target=\"_parent\"><img src=\"https://colab.research.google.com/assets/colab-badge.svg\" alt=\"Open In Colab\"/></a>"
      ]
    },
    {
      "cell_type": "code",
      "execution_count": 1,
      "metadata": {
        "id": "thhZz6KAohfv"
      },
      "outputs": [
        {
          "data": {
            "text/plain": [
              "(65532, 12)"
            ]
          },
          "execution_count": 1,
          "metadata": {},
          "output_type": "execute_result"
        }
      ],
      "source": [
        "import sys\n",
        "import pandas as pd\n",
        "import numpy as np\n",
        "\n",
        "df = pd.read_csv('https://raw.githubusercontent.com/pongsapaks/Data-science/main/log2.csv')  \n",
        "df.shape"
      ]
    },
    {
      "cell_type": "code",
      "execution_count": 18,
      "metadata": {},
      "outputs": [],
      "source": [
        "# Load the dataset\n",
        "df = pd.read_csv('log2.csv')\n",
        "\n",
        "# Split the dataset into features (X) and target variable (y)\n",
        "X = df.drop(['Action'], axis=1)\n",
        "y = df['Action']"
      ]
    },
    {
      "cell_type": "code",
      "execution_count": 25,
      "metadata": {},
      "outputs": [
        {
          "data": {
            "image/png": "[encoded data removed]",
            "text/plain": [
              "<Figure size 640x480 with 1 Axes>"
            ]
          },
          "metadata": {},
          "output_type": "display_data"
        }
      ],
      "source": [
        "#Oversampling\n",
        "from imblearn.over_sampling import SMOTE\n",
        "from sklearn.decomposition import PCA\n",
        "import matplotlib.pyplot as plt\n",
        "import seaborn as sns\n",
        "\n",
        "# Apply SMOTE (regular, svm)\n",
        "sm = SMOTE(sampling_strategy='auto')\n",
        "X_resampled, y_resampled = sm.fit_resample(X, y)\n",
        "\n",
        "pca = PCA(n_components=4)\n",
        "X_res_vis = pca.fit_transform(X_resampled)\n",
        "sns.countplot(x=y_resampled,data=df,palette='hls')\n",
        "plt.show()"
      ]
    },
    {
      "cell_type": "code",
      "execution_count": 28,
      "metadata": {},
      "outputs": [
        {
          "data": {
            "text/plain": [
              "ShapiroResult(statistic=0.0008409619331359863, pvalue=0.0)"
            ]
          },
          "execution_count": 28,
          "metadata": {},
          "output_type": "execute_result"
        }
      ],
      "source": [
        "#Check Shapiro test (Normaldistribution)\n",
        "import scipy.stats\n",
        "scipy.stats.shapiro(X_resampled)"
      ]
    },
    {
      "cell_type": "code",
      "execution_count": 31,
      "metadata": {},
      "outputs": [
        {
          "name": "stderr",
          "output_type": "stream",
          "text": [
            "/Users/pongsapak/opt/anaconda3/lib/python3.9/site-packages/numpy/core/fromnumeric.py:84: FutureWarning: In a future version, DataFrame.min(axis=None) will return a scalar min over the entire DataFrame. To retain the old behavior, use 'frame.min(axis=0)' or just 'frame.min()'\n",
            "  return reduction(axis=axis, out=out, **passkwargs)\n",
            "/Users/pongsapak/opt/anaconda3/lib/python3.9/site-packages/numpy/core/fromnumeric.py:84: FutureWarning: In a future version, DataFrame.max(axis=None) will return a scalar max over the entire DataFrame. To retain the old behavior, use 'frame.max(axis=0)' or just 'frame.max()'\n",
            "  return reduction(axis=axis, out=out, **passkwargs)\n"
          ]
        },
        {
          "data": {
            "text/html": [
              "<div>\n",
              "<style scoped>\n",
              "    .dataframe tbody tr th:only-of-type {\n",
              "        vertical-align: middle;\n",
              "    }\n",
              "\n",
              "    .dataframe tbody tr th {\n",
              "        vertical-align: top;\n",
              "    }\n",
              "\n",
              "    .dataframe thead th {\n",
              "        text-align: right;\n",
              "    }\n",
              "</style>\n",
              "<table border=\"1\" class=\"dataframe\">\n",
              "  <thead>\n",
              "    <tr style=\"text-align: right;\">\n",
              "      <th></th>\n",
              "      <th>Source Port</th>\n",
              "      <th>Destination Port</th>\n",
              "      <th>NAT Source Port</th>\n",
              "      <th>NAT Destination Port</th>\n",
              "      <th>Bytes</th>\n",
              "      <th>Bytes Sent</th>\n",
              "      <th>Bytes Received</th>\n",
              "      <th>Packets</th>\n",
              "      <th>Elapsed Time (sec)</th>\n",
              "      <th>pkts_sent</th>\n",
              "      <th>pkts_received</th>\n",
              "    </tr>\n",
              "  </thead>\n",
              "  <tbody>\n",
              "    <tr>\n",
              "      <th>0</th>\n",
              "      <td>0.0</td>\n",
              "      <td>0.0</td>\n",
              "      <td>0.0</td>\n",
              "      <td>0.0</td>\n",
              "      <td>5.530350e-06</td>\n",
              "      <td>2.150816e-06</td>\n",
              "      <td>0.0</td>\n",
              "      <td>9.651429e-07</td>\n",
              "      <td>0.0</td>\n",
              "      <td>0.000000</td>\n",
              "      <td>0.0</td>\n",
              "    </tr>\n",
              "    <tr>\n",
              "      <th>1</th>\n",
              "      <td>0.0</td>\n",
              "      <td>0.0</td>\n",
              "      <td>0.0</td>\n",
              "      <td>0.0</td>\n",
              "      <td>2.225375e-04</td>\n",
              "      <td>9.741931e-05</td>\n",
              "      <td>0.0</td>\n",
              "      <td>1.737257e-05</td>\n",
              "      <td>0.0</td>\n",
              "      <td>0.000012</td>\n",
              "      <td>0.0</td>\n",
              "    </tr>\n",
              "    <tr>\n",
              "      <th>2</th>\n",
              "      <td>0.0</td>\n",
              "      <td>0.0</td>\n",
              "      <td>0.0</td>\n",
              "      <td>0.0</td>\n",
              "      <td>8.413695e-06</td>\n",
              "      <td>3.669039e-06</td>\n",
              "      <td>0.0</td>\n",
              "      <td>9.651429e-07</td>\n",
              "      <td>0.0</td>\n",
              "      <td>0.000000</td>\n",
              "      <td>0.0</td>\n",
              "    </tr>\n",
              "    <tr>\n",
              "      <th>3</th>\n",
              "      <td>0.0</td>\n",
              "      <td>0.0</td>\n",
              "      <td>0.0</td>\n",
              "      <td>0.0</td>\n",
              "      <td>1.544244e-04</td>\n",
              "      <td>8.717131e-05</td>\n",
              "      <td>0.0</td>\n",
              "      <td>1.351200e-05</td>\n",
              "      <td>0.0</td>\n",
              "      <td>0.000009</td>\n",
              "      <td>0.0</td>\n",
              "    </tr>\n",
              "    <tr>\n",
              "      <th>4</th>\n",
              "      <td>0.0</td>\n",
              "      <td>0.0</td>\n",
              "      <td>0.0</td>\n",
              "      <td>0.0</td>\n",
              "      <td>1.195785e-03</td>\n",
              "      <td>4.249759e-04</td>\n",
              "      <td>0.0</td>\n",
              "      <td>2.895429e-05</td>\n",
              "      <td>0.0</td>\n",
              "      <td>0.000016</td>\n",
              "      <td>0.0</td>\n",
              "    </tr>\n",
              "    <tr>\n",
              "      <th>...</th>\n",
              "      <td>...</td>\n",
              "      <td>...</td>\n",
              "      <td>...</td>\n",
              "      <td>...</td>\n",
              "      <td>...</td>\n",
              "      <td>...</td>\n",
              "      <td>...</td>\n",
              "      <td>...</td>\n",
              "      <td>...</td>\n",
              "      <td>...</td>\n",
              "      <td>...</td>\n",
              "    </tr>\n",
              "    <tr>\n",
              "      <th>150555</th>\n",
              "      <td>0.0</td>\n",
              "      <td>0.0</td>\n",
              "      <td>0.0</td>\n",
              "      <td>0.0</td>\n",
              "      <td>3.970508e-06</td>\n",
              "      <td>5.313781e-06</td>\n",
              "      <td>0.0</td>\n",
              "      <td>0.000000e+00</td>\n",
              "      <td>0.0</td>\n",
              "      <td>0.000000</td>\n",
              "      <td>0.0</td>\n",
              "    </tr>\n",
              "    <tr>\n",
              "      <th>150556</th>\n",
              "      <td>0.0</td>\n",
              "      <td>0.0</td>\n",
              "      <td>0.0</td>\n",
              "      <td>0.0</td>\n",
              "      <td>3.923240e-06</td>\n",
              "      <td>5.250521e-06</td>\n",
              "      <td>0.0</td>\n",
              "      <td>0.000000e+00</td>\n",
              "      <td>0.0</td>\n",
              "      <td>0.000000</td>\n",
              "      <td>0.0</td>\n",
              "    </tr>\n",
              "    <tr>\n",
              "      <th>150557</th>\n",
              "      <td>0.0</td>\n",
              "      <td>0.0</td>\n",
              "      <td>0.0</td>\n",
              "      <td>0.0</td>\n",
              "      <td>4.159580e-06</td>\n",
              "      <td>5.566818e-06</td>\n",
              "      <td>0.0</td>\n",
              "      <td>0.000000e+00</td>\n",
              "      <td>0.0</td>\n",
              "      <td>0.000000</td>\n",
              "      <td>0.0</td>\n",
              "    </tr>\n",
              "    <tr>\n",
              "      <th>150558</th>\n",
              "      <td>0.0</td>\n",
              "      <td>0.0</td>\n",
              "      <td>0.0</td>\n",
              "      <td>0.0</td>\n",
              "      <td>4.726795e-07</td>\n",
              "      <td>6.325929e-07</td>\n",
              "      <td>0.0</td>\n",
              "      <td>0.000000e+00</td>\n",
              "      <td>0.0</td>\n",
              "      <td>0.000000</td>\n",
              "      <td>0.0</td>\n",
              "    </tr>\n",
              "    <tr>\n",
              "      <th>150559</th>\n",
              "      <td>0.0</td>\n",
              "      <td>0.0</td>\n",
              "      <td>0.0</td>\n",
              "      <td>0.0</td>\n",
              "      <td>4.112312e-06</td>\n",
              "      <td>5.503559e-06</td>\n",
              "      <td>0.0</td>\n",
              "      <td>0.000000e+00</td>\n",
              "      <td>0.0</td>\n",
              "      <td>0.000000</td>\n",
              "      <td>0.0</td>\n",
              "    </tr>\n",
              "  </tbody>\n",
              "</table>\n",
              "<p>150560 rows × 11 columns</p>\n",
              "</div>"
            ],
            "text/plain": [
              "        Source Port  Destination Port  NAT Source Port  NAT Destination Port  \\\n",
              "0               0.0               0.0              0.0                   0.0   \n",
              "1               0.0               0.0              0.0                   0.0   \n",
              "2               0.0               0.0              0.0                   0.0   \n",
              "3               0.0               0.0              0.0                   0.0   \n",
              "4               0.0               0.0              0.0                   0.0   \n",
              "...             ...               ...              ...                   ...   \n",
              "150555          0.0               0.0              0.0                   0.0   \n",
              "150556          0.0               0.0              0.0                   0.0   \n",
              "150557          0.0               0.0              0.0                   0.0   \n",
              "150558          0.0               0.0              0.0                   0.0   \n",
              "150559          0.0               0.0              0.0                   0.0   \n",
              "\n",
              "               Bytes    Bytes Sent  Bytes Received       Packets  \\\n",
              "0       5.530350e-06  2.150816e-06             0.0  9.651429e-07   \n",
              "1       2.225375e-04  9.741931e-05             0.0  1.737257e-05   \n",
              "2       8.413695e-06  3.669039e-06             0.0  9.651429e-07   \n",
              "3       1.544244e-04  8.717131e-05             0.0  1.351200e-05   \n",
              "4       1.195785e-03  4.249759e-04             0.0  2.895429e-05   \n",
              "...              ...           ...             ...           ...   \n",
              "150555  3.970508e-06  5.313781e-06             0.0  0.000000e+00   \n",
              "150556  3.923240e-06  5.250521e-06             0.0  0.000000e+00   \n",
              "150557  4.159580e-06  5.566818e-06             0.0  0.000000e+00   \n",
              "150558  4.726795e-07  6.325929e-07             0.0  0.000000e+00   \n",
              "150559  4.112312e-06  5.503559e-06             0.0  0.000000e+00   \n",
              "\n",
              "        Elapsed Time (sec)  pkts_sent  pkts_received  \n",
              "0                      0.0   0.000000            0.0  \n",
              "1                      0.0   0.000012            0.0  \n",
              "2                      0.0   0.000000            0.0  \n",
              "3                      0.0   0.000009            0.0  \n",
              "4                      0.0   0.000016            0.0  \n",
              "...                    ...        ...            ...  \n",
              "150555                 0.0   0.000000            0.0  \n",
              "150556                 0.0   0.000000            0.0  \n",
              "150557                 0.0   0.000000            0.0  \n",
              "150558                 0.0   0.000000            0.0  \n",
              "150559                 0.0   0.000000            0.0  \n",
              "\n",
              "[150560 rows x 11 columns]"
            ]
          },
          "execution_count": 31,
          "metadata": {},
          "output_type": "execute_result"
        }
      ],
      "source": [
        "#Normalization\n",
        "x = (X_resampled - np.min(X_resampled)) / (np.max(X_resampled) / np.min(X_resampled)).values\n",
        "x"
      ]
    },
    {
      "cell_type": "code",
      "execution_count": null,
      "metadata": {},
      "outputs": [],
      "source": []
    }
  ],
  "metadata": {
    "colab": {
      "authorship_tag": "ABX9TyOwxUcA2aFHMlU0G782aQDx",
      "include_colab_link": true,
      "provenance": []
    },
    "kernelspec": {
      "display_name": "Python 3",
      "name": "python3"
    },
    "language_info": {
      "codemirror_mode": {
        "name": "ipython",
        "version": 3
      },
      "file_extension": ".py",
      "mimetype": "text/x-python",
      "name": "python",
      "nbconvert_exporter": "python",
      "pygments_lexer": "ipython3",
      "version": "3.9.12"
    }
  },
  "nbformat": 4,
  "nbformat_minor": 0
}
