{
 "cells": [
  {
   "cell_type": "code",
   "execution_count": null,
   "id": "c0367d72",
   "metadata": {},
   "outputs": [],
   "source": [
    "import pandas as pd\n",
    "import numpy as np\n",
    "import matplotlib.pyplot as plt\n",
    "import seaborn as sns\n",
    "import imblearn.over_sampling\n",
    "import scipy.stats\n",
    " \n",
    "from sklearn.metrics import accuracy_score, classification_report, confusion_matrix\n",
    "from sklearn.model_selection import train_test_split\n",
    "from imblearn.over_sampling import SMOTE\n",
    "from sklearn.decomposition import PCA\n",
    "from sklearn.ensemble import RandomForestClassifier\n",
    "from sklearn.feature_selection import SelectFromModel\n",
    "from imblearn.pipeline import Pipeline\n",
    "from sklearn.impute import SimpleImputer\n",
    " \n",
    "df = pd.read_csv('https://raw.githubusercontent.com/pongsapaks/Data-science/main/log2.csv')\n",
    " \n",
    "X = df.drop(['Action'], axis=1)\n",
    "y = df['Action']\n",
    " \n",
    "## split the data into training and testing sets\n",
    "X_train, X_test, y_train, y_test = train_test_split(X, y, test_size=0.2, random_state=42)\n"
   ]
  },
  {
   "attachments": {},
   "cell_type": "markdown",
   "id": "b4690f3e",
   "metadata": {},
   "source": [
    "## KNN not EDA"
   ]
  },
  {
   "cell_type": "code",
   "execution_count": 4,
   "id": "a5088e7d",
   "metadata": {},
   "outputs": [
    {
     "name": "stderr",
     "output_type": "stream",
     "text": [
      "/Users/pongsapak/opt/anaconda3/lib/python3.9/site-packages/sklearn/metrics/_classification.py:1344: UndefinedMetricWarning: Precision and F-score are ill-defined and being set to 0.0 in labels with no predicted samples. Use `zero_division` parameter to control this behavior.\n",
      "  _warn_prf(average, modifier, msg_start, len(result))\n",
      "/Users/pongsapak/opt/anaconda3/lib/python3.9/site-packages/sklearn/metrics/_classification.py:1344: UndefinedMetricWarning: Precision and F-score are ill-defined and being set to 0.0 in labels with no predicted samples. Use `zero_division` parameter to control this behavior.\n",
      "  _warn_prf(average, modifier, msg_start, len(result))\n",
      "/Users/pongsapak/opt/anaconda3/lib/python3.9/site-packages/sklearn/metrics/_classification.py:1344: UndefinedMetricWarning: Precision and F-score are ill-defined and being set to 0.0 in labels with no predicted samples. Use `zero_division` parameter to control this behavior.\n",
      "  _warn_prf(average, modifier, msg_start, len(result))\n"
     ]
    },
    {
     "name": "stdout",
     "output_type": "stream",
     "text": [
      "KNN with k=5: F1-score = 0.9934\n",
      "              precision    recall  f1-score   support\n",
      "\n",
      "       allow       1.00      0.99      1.00      7545\n",
      "        deny       0.98      0.99      0.99      2994\n",
      "        drop       1.00      1.00      1.00      2562\n",
      "  reset-both       0.00      0.00      0.00         6\n",
      "\n",
      "    accuracy                           0.99     13107\n",
      "   macro avg       0.74      0.75      0.74     13107\n",
      "weighted avg       0.99      0.99      0.99     13107\n",
      "\n"
     ]
    },
    {
     "name": "stderr",
     "output_type": "stream",
     "text": [
      "/Users/pongsapak/opt/anaconda3/lib/python3.9/site-packages/sklearn/metrics/_classification.py:1344: UndefinedMetricWarning: Precision and F-score are ill-defined and being set to 0.0 in labels with no predicted samples. Use `zero_division` parameter to control this behavior.\n",
      "  _warn_prf(average, modifier, msg_start, len(result))\n",
      "/Users/pongsapak/opt/anaconda3/lib/python3.9/site-packages/sklearn/metrics/_classification.py:1344: UndefinedMetricWarning: Precision and F-score are ill-defined and being set to 0.0 in labels with no predicted samples. Use `zero_division` parameter to control this behavior.\n",
      "  _warn_prf(average, modifier, msg_start, len(result))\n",
      "/Users/pongsapak/opt/anaconda3/lib/python3.9/site-packages/sklearn/metrics/_classification.py:1344: UndefinedMetricWarning: Precision and F-score are ill-defined and being set to 0.0 in labels with no predicted samples. Use `zero_division` parameter to control this behavior.\n",
      "  _warn_prf(average, modifier, msg_start, len(result))\n"
     ]
    }
   ],
   "source": [
    "k=5\n",
    "knn = KNeighborsClassifier(n_neighbors=k)\n",
    "knn.fit(X_train, y_train)\n",
    "y_pred = knn.predict(X_test)\n",
    "f1 = classification_report(y_test, y_pred, output_dict=True)['weighted avg']['f1-score']\n",
    "print(f\"KNN with k={k}: F1-score = {f1:.4f}\")\n",
    "print(classification_report(y_test, y_pred))"
   ]
  },
  {
   "attachments": {},
   "cell_type": "markdown",
   "id": "fc7011cb",
   "metadata": {},
   "source": [
    "## KNN EDA Data"
   ]
  },
  {
   "cell_type": "code",
   "execution_count": 1,
   "id": "3d818326",
   "metadata": {},
   "outputs": [
    {
     "name": "stdout",
     "output_type": "stream",
     "text": [
      "              precision    recall  f1-score   support\n",
      "\n",
      "       allow       1.00      0.98      0.99      7545\n",
      "        deny       0.98      0.98      0.98      2994\n",
      "        drop       1.00      1.00      1.00      2562\n",
      "  reset-both       0.05      0.83      0.09         6\n",
      "\n",
      "    accuracy                           0.99     13107\n",
      "   macro avg       0.76      0.95      0.77     13107\n",
      "weighted avg       0.99      0.99      0.99     13107\n",
      "\n"
     ]
    }
   ],
   "source": [
    "import pandas as pd\n",
    "import numpy as np\n",
    "import matplotlib.pyplot as plt\n",
    "import seaborn as sns\n",
    "import imblearn.over_sampling\n",
    "import scipy.stats\n",
    " \n",
    "from sklearn.metrics import accuracy_score, classification_report, confusion_matrix\n",
    "from sklearn.model_selection import train_test_split\n",
    "from imblearn.over_sampling import SMOTE\n",
    "from sklearn.decomposition import PCA\n",
    "from sklearn.ensemble import RandomForestClassifier\n",
    "from sklearn.feature_selection import SelectFromModel\n",
    "from imblearn.pipeline import Pipeline\n",
    "from sklearn.impute import SimpleImputer\n",
    "from sklearn.neighbors import KNeighborsClassifier\n",
    "from sklearn.preprocessing import MinMaxScaler\n",
    "from sklearn.model_selection import GridSearchCV\n",
    " \n",
    "df = pd.read_csv('https://raw.githubusercontent.com/pongsapaks/Data-science/main/log2.csv')\n",
    " \n",
    "X = df.drop(['Action'], axis=1)\n",
    "y = df['Action']\n",
    " \n",
    "## split the data into training and testing sets\n",
    "X_train, X_test, y_train, y_test = train_test_split(X, y, test_size=0.2, random_state=42)\n",
    "\n",
    "## create a pipeline\n",
    "pipeline = Pipeline([\n",
    "    ('smote', SMOTE(sampling_strategy='auto')),\n",
    "    ('feature_selection', SelectFromModel(RandomForestClassifier(n_estimators=100), max_features=4)),\n",
    "    ('classifier', KNeighborsClassifier())\n",
    "])\n",
    "\n",
    "#GridSearch Parameter\n",
    "parameters = {\n",
    "    \"classifier__n_neighbors\":[3,5,7,9,11,13,15,17,21],\n",
    "    \"classifier__metric\": [\"minkowski\", \"manhattan\", \"infinity\"],\n",
    "    \"classifier__weights\": [\"uniform\",\"distance\"]\n",
    "    }\n",
    "\n",
    "grid = GridSearchCV(pipeline, parameters, cv=5, n_jobs=-1, scoring='f1_macro')\n",
    "\n",
    "## fit the pipeline with training data\n",
    "grid.fit(X_train, y_train)\n",
    " \n",
    "## predict the labels of new data\n",
    "y_pred = grid.predict(X_test)\n",
    " \n",
    "## print classification report\n",
    "print(classification_report(y_test, y_pred))"
   ]
  },
  {
   "cell_type": "code",
   "execution_count": null,
   "id": "5b12a3e8",
   "metadata": {},
   "outputs": [],
   "source": []
  }
 ],
 "metadata": {
  "kernelspec": {
   "display_name": "Python 3 (ipykernel)",
   "language": "python",
   "name": "python3"
  },
  "language_info": {
   "codemirror_mode": {
    "name": "ipython",
    "version": 3
   },
   "file_extension": ".py",
   "mimetype": "text/x-python",
   "name": "python",
   "nbconvert_exporter": "python",
   "pygments_lexer": "ipython3",
   "version": "3.9.12"
  }
 },
 "nbformat": 4,
 "nbformat_minor": 5
}
